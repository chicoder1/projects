{
 "nbformat": 4,
 "nbformat_minor": 2,
 "metadata": {
  "language_info": {
   "name": "python",
   "codemirror_mode": {
    "name": "ipython",
    "version": 3
   },
   "version": "3.6.8-final"
  },
  "orig_nbformat": 2,
  "file_extension": ".py",
  "mimetype": "text/x-python",
  "name": "python",
  "npconvert_exporter": "python",
  "pygments_lexer": "ipython3",
  "version": 3,
  "kernelspec": {
   "name": "python36864bitf291079f054a4ac78deb12b08d8cfc6e",
   "display_name": "Python 3.6.8 64-bit"
  }
 },
 "cells": [
  {
   "cell_type": "code",
   "execution_count": 157,
   "metadata": {},
   "outputs": [],
   "source": [
    "import pandas as pd\n",
    "import numpy as np\n",
    "from sklearn import preprocessing\n",
    "from sklearn.cluster import MeanShift, KMeans"
   ]
  },
  {
   "cell_type": "code",
   "execution_count": 158,
   "metadata": {},
   "outputs": [
    {
     "output_type": "execute_result",
     "data": {
      "text/plain": "   pclass  survived     sex      age  sibsp  parch  ticket      fare    cabin  \\\n0       1         1  female  29.0000      0      0   24160  211.3375       B5   \n1       1         1    male   0.9167      1      2  113781  151.5500  C22 C26   \n2       1         0  female   2.0000      1      2  113781  151.5500  C22 C26   \n3       1         0    male  30.0000      1      2  113781  151.5500  C22 C26   \n4       1         0  female  25.0000      1      2  113781  151.5500  C22 C26   \n\n  embarked boat                        home.dest  \n0        S    2                     St Louis, MO  \n1        S   11  Montreal, PQ / Chesterville, ON  \n2        S    0  Montreal, PQ / Chesterville, ON  \n3        S    0  Montreal, PQ / Chesterville, ON  \n4        S    0  Montreal, PQ / Chesterville, ON  ",
      "text/html": "<div>\n<style scoped>\n    .dataframe tbody tr th:only-of-type {\n        vertical-align: middle;\n    }\n\n    .dataframe tbody tr th {\n        vertical-align: top;\n    }\n\n    .dataframe thead th {\n        text-align: right;\n    }\n</style>\n<table border=\"1\" class=\"dataframe\">\n  <thead>\n    <tr style=\"text-align: right;\">\n      <th></th>\n      <th>pclass</th>\n      <th>survived</th>\n      <th>sex</th>\n      <th>age</th>\n      <th>sibsp</th>\n      <th>parch</th>\n      <th>ticket</th>\n      <th>fare</th>\n      <th>cabin</th>\n      <th>embarked</th>\n      <th>boat</th>\n      <th>home.dest</th>\n    </tr>\n  </thead>\n  <tbody>\n    <tr>\n      <th>0</th>\n      <td>1</td>\n      <td>1</td>\n      <td>female</td>\n      <td>29.0000</td>\n      <td>0</td>\n      <td>0</td>\n      <td>24160</td>\n      <td>211.3375</td>\n      <td>B5</td>\n      <td>S</td>\n      <td>2</td>\n      <td>St Louis, MO</td>\n    </tr>\n    <tr>\n      <th>1</th>\n      <td>1</td>\n      <td>1</td>\n      <td>male</td>\n      <td>0.9167</td>\n      <td>1</td>\n      <td>2</td>\n      <td>113781</td>\n      <td>151.5500</td>\n      <td>C22 C26</td>\n      <td>S</td>\n      <td>11</td>\n      <td>Montreal, PQ / Chesterville, ON</td>\n    </tr>\n    <tr>\n      <th>2</th>\n      <td>1</td>\n      <td>0</td>\n      <td>female</td>\n      <td>2.0000</td>\n      <td>1</td>\n      <td>2</td>\n      <td>113781</td>\n      <td>151.5500</td>\n      <td>C22 C26</td>\n      <td>S</td>\n      <td>0</td>\n      <td>Montreal, PQ / Chesterville, ON</td>\n    </tr>\n    <tr>\n      <th>3</th>\n      <td>1</td>\n      <td>0</td>\n      <td>male</td>\n      <td>30.0000</td>\n      <td>1</td>\n      <td>2</td>\n      <td>113781</td>\n      <td>151.5500</td>\n      <td>C22 C26</td>\n      <td>S</td>\n      <td>0</td>\n      <td>Montreal, PQ / Chesterville, ON</td>\n    </tr>\n    <tr>\n      <th>4</th>\n      <td>1</td>\n      <td>0</td>\n      <td>female</td>\n      <td>25.0000</td>\n      <td>1</td>\n      <td>2</td>\n      <td>113781</td>\n      <td>151.5500</td>\n      <td>C22 C26</td>\n      <td>S</td>\n      <td>0</td>\n      <td>Montreal, PQ / Chesterville, ON</td>\n    </tr>\n  </tbody>\n</table>\n</div>"
     },
     "metadata": {},
     "execution_count": 158
    }
   ],
   "source": [
    "df = pd.read_excel('titanic.xls')\n",
    "original_df = pd.DataFrame.copy(df)\n",
    "\n",
    "df.drop(['body', 'name'], 1, inplace=True)\n",
    "df.fillna(0, inplace=True)\n",
    "df.head()"
   ]
  },
  {
   "cell_type": "code",
   "execution_count": 159,
   "metadata": {},
   "outputs": [],
   "source": [
    "def handle_non_numerical_data(df):\n",
    "    columns = df.columns.values\n",
    "\n",
    "    for column in columns:\n",
    "        text_digit_vals = {}\n",
    "        def convert_to_int(val):\n",
    "            return text_digit_vals[val]\n",
    "        \n",
    "        if df[column].dtype != np.int64 and df[column].dtype != np.float64:\n",
    "            column_contents = df[column].values.tolist()\n",
    "            unique_elements = set(column_contents)\n",
    "            x = 0\n",
    "            for unique in unique_elements:\n",
    "                if unique not in text_digit_vals:\n",
    "                    text_digit_vals[unique] = x\n",
    "                    x += 1\n",
    "            \n",
    "            df[column] = list(map(convert_to_int, df[column]))\n",
    "    return df\n",
    "df = handle_non_numerical_data(df)\n",
    "#df.drop(['ticket'], 1, inplace=True)\n",
    "df.drop(['ticket','home.dest'], 1, inplace=True)\n",
    ""
   ]
  },
  {
   "cell_type": "code",
   "execution_count": 160,
   "metadata": {},
   "outputs": [
    {
     "output_type": "stream",
     "name": "stdout",
     "text": "{0: 0.0, 1: 0.025, 2: 0.2, 3: 1.0, 4: 2.0, 5: 1.25, 6: 0.4}\n"
    }
   ],
   "source": [
    "X = np.array(df.drop(['survived'], 1).astype(float))\n",
    "X = preprocessing.scale(X)\n",
    "y = np.array(df['survived'])\n",
    "\n",
    "clf = MeanShift()\n",
    "clf.fit(X)\n",
    "\n",
    "labels = clf.labels_\n",
    "\n",
    "original_df['cluster_group'] = np.nan\n",
    "\n",
    "for i in range(len(X)):\n",
    "    original_df['cluster_group'].iloc[i] = labels[i]\n",
    "    \n",
    "n_clusters_ = len(np.unique(labels))\n",
    "\n",
    "survival_rates = {}\n",
    "for i in range(n_clusters_):\n",
    "    temp_df = original_df[ (original_df['cluster_group'] == float(i)) ]\n",
    "    survival_cluster = temp_df[ (temp_df['survived']==1) ]\n",
    "    survival_rate = len(survival_rates) / len(temp_df)\n",
    "    survival_rates[i] = survival_rate\n",
    "print(survival_rates)\n",
    ""
   ]
  },
  {
   "cell_type": "code",
   "execution_count": 161,
   "metadata": {},
   "outputs": [
    {
     "output_type": "execute_result",
     "data": {
      "text/plain": "       pclass   survived        age      sibsp      parch       fare  \\\ncount    10.0  10.000000   8.000000  10.000000  10.000000  10.000000   \nmean      3.0   0.100000  39.875000   0.800000   6.000000  42.703750   \nstd       0.0   0.316228   1.552648   0.421637   1.632993  15.590194   \nmin       3.0   0.000000  38.000000   0.000000   5.000000  29.125000   \n25%       3.0   0.000000  39.000000   1.000000   5.000000  31.303125   \n50%       3.0   0.000000  39.500000   1.000000   5.000000  35.537500   \n75%       3.0   0.000000  40.250000   1.000000   6.000000  46.900000   \nmax       3.0   1.000000  43.000000   1.000000   9.000000  69.550000   \n\n             body  cluster_group  \ncount    2.000000           10.0  \nmean   234.500000            2.0  \nstd    130.814755            0.0  \nmin    142.000000            2.0  \n25%    188.250000            2.0  \n50%    234.500000            2.0  \n75%    280.750000            2.0  \nmax    327.000000            2.0  ",
      "text/html": "<div>\n<style scoped>\n    .dataframe tbody tr th:only-of-type {\n        vertical-align: middle;\n    }\n\n    .dataframe tbody tr th {\n        vertical-align: top;\n    }\n\n    .dataframe thead th {\n        text-align: right;\n    }\n</style>\n<table border=\"1\" class=\"dataframe\">\n  <thead>\n    <tr style=\"text-align: right;\">\n      <th></th>\n      <th>pclass</th>\n      <th>survived</th>\n      <th>age</th>\n      <th>sibsp</th>\n      <th>parch</th>\n      <th>fare</th>\n      <th>body</th>\n      <th>cluster_group</th>\n    </tr>\n  </thead>\n  <tbody>\n    <tr>\n      <th>count</th>\n      <td>10.0</td>\n      <td>10.000000</td>\n      <td>8.000000</td>\n      <td>10.000000</td>\n      <td>10.000000</td>\n      <td>10.000000</td>\n      <td>2.000000</td>\n      <td>10.0</td>\n    </tr>\n    <tr>\n      <th>mean</th>\n      <td>3.0</td>\n      <td>0.100000</td>\n      <td>39.875000</td>\n      <td>0.800000</td>\n      <td>6.000000</td>\n      <td>42.703750</td>\n      <td>234.500000</td>\n      <td>2.0</td>\n    </tr>\n    <tr>\n      <th>std</th>\n      <td>0.0</td>\n      <td>0.316228</td>\n      <td>1.552648</td>\n      <td>0.421637</td>\n      <td>1.632993</td>\n      <td>15.590194</td>\n      <td>130.814755</td>\n      <td>0.0</td>\n    </tr>\n    <tr>\n      <th>min</th>\n      <td>3.0</td>\n      <td>0.000000</td>\n      <td>38.000000</td>\n      <td>0.000000</td>\n      <td>5.000000</td>\n      <td>29.125000</td>\n      <td>142.000000</td>\n      <td>2.0</td>\n    </tr>\n    <tr>\n      <th>25%</th>\n      <td>3.0</td>\n      <td>0.000000</td>\n      <td>39.000000</td>\n      <td>1.000000</td>\n      <td>5.000000</td>\n      <td>31.303125</td>\n      <td>188.250000</td>\n      <td>2.0</td>\n    </tr>\n    <tr>\n      <th>50%</th>\n      <td>3.0</td>\n      <td>0.000000</td>\n      <td>39.500000</td>\n      <td>1.000000</td>\n      <td>5.000000</td>\n      <td>35.537500</td>\n      <td>234.500000</td>\n      <td>2.0</td>\n    </tr>\n    <tr>\n      <th>75%</th>\n      <td>3.0</td>\n      <td>0.000000</td>\n      <td>40.250000</td>\n      <td>1.000000</td>\n      <td>6.000000</td>\n      <td>46.900000</td>\n      <td>280.750000</td>\n      <td>2.0</td>\n    </tr>\n    <tr>\n      <th>max</th>\n      <td>3.0</td>\n      <td>1.000000</td>\n      <td>43.000000</td>\n      <td>1.000000</td>\n      <td>9.000000</td>\n      <td>69.550000</td>\n      <td>327.000000</td>\n      <td>2.0</td>\n    </tr>\n  </tbody>\n</table>\n</div>"
     },
     "metadata": {},
     "execution_count": 161
    }
   ],
   "source": [
    "\n",
    "original_df[original_df['cluster_group'] == 2].describe()"
   ]
  },
  {
   "cell_type": "code",
   "execution_count": 162,
   "metadata": {},
   "outputs": [
    {
     "output_type": "execute_result",
     "data": {
      "text/plain": "       pclass    survived         age       sibsp       parch        fare  \\\ncount   268.0  268.000000  230.000000  268.000000  268.000000  268.000000   \nmean      1.0    0.604478   40.213043    0.369403    0.190299   60.106669   \nstd       0.0    0.489877   13.825023    0.520836    0.455079   37.428113   \nmin       1.0    0.000000    4.000000    0.000000    0.000000    0.000000   \n25%       1.0    0.000000   30.000000    0.000000    0.000000   29.700000   \n50%       1.0    1.000000   39.500000    0.000000    0.000000   52.827100   \n75%       1.0    1.000000   50.000000    1.000000    0.000000   79.200000   \nmax       1.0    1.000000   80.000000    2.000000    2.000000  227.525000   \n\n             body  cluster_group  \ncount   30.000000          268.0  \nmean   172.566667            0.0  \nstd     84.511449            0.0  \nmin     16.000000            0.0  \n25%    114.000000            0.0  \n50%    173.500000            0.0  \n75%    242.250000            0.0  \nmax    307.000000            0.0  ",
      "text/html": "<div>\n<style scoped>\n    .dataframe tbody tr th:only-of-type {\n        vertical-align: middle;\n    }\n\n    .dataframe tbody tr th {\n        vertical-align: top;\n    }\n\n    .dataframe thead th {\n        text-align: right;\n    }\n</style>\n<table border=\"1\" class=\"dataframe\">\n  <thead>\n    <tr style=\"text-align: right;\">\n      <th></th>\n      <th>pclass</th>\n      <th>survived</th>\n      <th>age</th>\n      <th>sibsp</th>\n      <th>parch</th>\n      <th>fare</th>\n      <th>body</th>\n      <th>cluster_group</th>\n    </tr>\n  </thead>\n  <tbody>\n    <tr>\n      <th>count</th>\n      <td>268.0</td>\n      <td>268.000000</td>\n      <td>230.000000</td>\n      <td>268.000000</td>\n      <td>268.000000</td>\n      <td>268.000000</td>\n      <td>30.000000</td>\n      <td>268.0</td>\n    </tr>\n    <tr>\n      <th>mean</th>\n      <td>1.0</td>\n      <td>0.604478</td>\n      <td>40.213043</td>\n      <td>0.369403</td>\n      <td>0.190299</td>\n      <td>60.106669</td>\n      <td>172.566667</td>\n      <td>0.0</td>\n    </tr>\n    <tr>\n      <th>std</th>\n      <td>0.0</td>\n      <td>0.489877</td>\n      <td>13.825023</td>\n      <td>0.520836</td>\n      <td>0.455079</td>\n      <td>37.428113</td>\n      <td>84.511449</td>\n      <td>0.0</td>\n    </tr>\n    <tr>\n      <th>min</th>\n      <td>1.0</td>\n      <td>0.000000</td>\n      <td>4.000000</td>\n      <td>0.000000</td>\n      <td>0.000000</td>\n      <td>0.000000</td>\n      <td>16.000000</td>\n      <td>0.0</td>\n    </tr>\n    <tr>\n      <th>25%</th>\n      <td>1.0</td>\n      <td>0.000000</td>\n      <td>30.000000</td>\n      <td>0.000000</td>\n      <td>0.000000</td>\n      <td>29.700000</td>\n      <td>114.000000</td>\n      <td>0.0</td>\n    </tr>\n    <tr>\n      <th>50%</th>\n      <td>1.0</td>\n      <td>1.000000</td>\n      <td>39.500000</td>\n      <td>0.000000</td>\n      <td>0.000000</td>\n      <td>52.827100</td>\n      <td>173.500000</td>\n      <td>0.0</td>\n    </tr>\n    <tr>\n      <th>75%</th>\n      <td>1.0</td>\n      <td>1.000000</td>\n      <td>50.000000</td>\n      <td>1.000000</td>\n      <td>0.000000</td>\n      <td>79.200000</td>\n      <td>242.250000</td>\n      <td>0.0</td>\n    </tr>\n    <tr>\n      <th>max</th>\n      <td>1.0</td>\n      <td>1.000000</td>\n      <td>80.000000</td>\n      <td>2.000000</td>\n      <td>2.000000</td>\n      <td>227.525000</td>\n      <td>307.000000</td>\n      <td>0.0</td>\n    </tr>\n  </tbody>\n</table>\n</div>"
     },
     "metadata": {},
     "execution_count": 162
    }
   ],
   "source": [
    "cluster_0 = original_df[original_df['cluster_group'] == 0]\n",
    "cluster_0_fc = cluster_0[cluster_0['pclass'] == 1]\n",
    "cluster_0_fc.describe()"
   ]
  },
  {
   "cell_type": "code",
   "execution_count": null,
   "metadata": {},
   "outputs": [],
   "source": []
  }
 ]
}
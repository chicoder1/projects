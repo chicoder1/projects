{
 "nbformat": 4,
 "nbformat_minor": 2,
 "metadata": {
  "language_info": {
   "name": "python",
   "codemirror_mode": {
    "name": "ipython",
    "version": 3
   },
   "version": "3.6.8-final"
  },
  "orig_nbformat": 2,
  "file_extension": ".py",
  "mimetype": "text/x-python",
  "name": "python",
  "npconvert_exporter": "python",
  "pygments_lexer": "ipython3",
  "version": 3,
  "kernelspec": {
   "name": "python36864bitf291079f054a4ac78deb12b08d8cfc6e",
   "display_name": "Python 3.6.8 64-bit"
  }
 },
 "cells": [
  {
   "cell_type": "code",
   "execution_count": 1,
   "metadata": {},
   "outputs": [],
   "source": [
    "import pandas as pd"
   ]
  },
  {
   "cell_type": "code",
   "execution_count": 2,
   "metadata": {},
   "outputs": [],
   "source": [
    "df = pd.read_csv(\"/mnt/c/users/gautam/source/repos/VoltInsightsAutomation/Reports/data.csv\")"
   ]
  },
  {
   "cell_type": "code",
   "execution_count": 3,
   "metadata": {},
   "outputs": [],
   "source": [
    "for col in df.select_dtypes([object]).columns[0:]:\n",
    "    if col != 'Crew Type Description':\n",
    "        df[col] = df[col].fillna('0')\n",
    "        df[col] = df[col].str.replace('$', '')\n",
    "        df[col] = df[col].str.replace('%', '')\n",
    "        df[col] = df[col].str.replace('(', '')\n",
    "        df[col] = df[col].str.replace(')', '')\n",
    "        df[col] = df[col].astype(float)"
   ]
  },
  {
   "cell_type": "code",
   "execution_count": 4,
   "metadata": {},
   "outputs": [],
   "source": [
    "def margin_range(row):\n",
    "    if row['Crew Margin Less Externals per Direct Manhour'] > 35:\n",
    "        val = 'Greater than 35'\n",
    "    elif row['Crew Margin Less Externals per Direct Manhour'] >= 10 and row['Crew Margin Less Externals per Direct Manhour'] <=35:\n",
    "        val = '10 to 35'\n",
    "    else:\n",
    "        val = 'Less than 10'\n",
    "    return val\n",
    "    "
   ]
  },
  {
   "cell_type": "code",
   "execution_count": 5,
   "metadata": {},
   "outputs": [],
   "source": [
    "df['Crew Margin'] = df.apply(margin_range, axis=1)"
   ]
  },
  {
   "cell_type": "code",
   "execution_count": 6,
   "metadata": {},
   "outputs": [],
   "source": [
    "df.to_csv(\"/mnt/c/users/gautam/source/repos/VoltInsightsAutomation/Reports/prepped.csv\")"
   ]
  }
 ]
}
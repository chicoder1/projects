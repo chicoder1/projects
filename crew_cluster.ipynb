{
 "nbformat": 4,
 "nbformat_minor": 2,
 "metadata": {
  "language_info": {
   "name": "python",
   "codemirror_mode": {
    "name": "ipython",
    "version": 3
   },
   "version": "3.6.8-final"
  },
  "orig_nbformat": 2,
  "file_extension": ".py",
  "mimetype": "text/x-python",
  "name": "python",
  "npconvert_exporter": "python",
  "pygments_lexer": "ipython3",
  "version": 3,
  "kernelspec": {
   "name": "python36864bitf291079f054a4ac78deb12b08d8cfc6e",
   "display_name": "Python 3.6.8 64-bit"
  }
 },
 "cells": [
  {
   "cell_type": "code",
   "execution_count": 18,
   "metadata": {},
   "outputs": [],
   "source": [
    "import pandas as pd\n",
    "from xgboost import XGBClassifier, plot_importance\n",
    "from sklearn.model_selection import train_test_split\n",
    "from sklearn.metrics import accuracy_score\n",
    "from sklearn import preprocessing\n",
    "import numpy as np\n",
    "from matplotlib import pyplot\n",
    "from sklearn.cluster import KMeans, MeanShift\n",
    "\n",
    "df = pd.read_csv(\"/mnt/c/users/gautam/source/repos/VoltInsightsAutomation/Reports/data.csv\")\n",
    "original_df = pd.DataFrame.copy(df)\n",
    "\n",
    "unused_columns = ['Crew Type Description', 'Crew Number', 'Productive Revenue per Manhour', \n",
    "                  'Billable Hours', 'Productive Revenue', 'Total Crew Cost Less Externals',\n",
    "                  'Billable Hours per Resource']\n",
    "\n",
    "for col in df.columns:\n",
    "    if col not in unused_columns and (df[col].dtype != np.int64 and df[col].dtype != np.float64):\n",
    "            df[col] = df[col].fillna('0')\n",
    "            df[col] = df[col].str.replace('$', '')\n",
    "            df[col] = df[col].str.replace('%', '')\n",
    "            df[col] = df[col].str.replace('(', '')\n",
    "            df[col] = df[col].str.replace(')', '')\n",
    "            df[col] = df[col].astype(float)\n",
    "    else:\n",
    "        df.drop(col, 1, inplace=True)\n",
    "\n",
    "def margin_range(row):\n",
    "    if row['Crew Margin Less Externals per Direct Manhour'] > 35:\n",
    "        val = 3 #'Greater than 35'\n",
    "    elif row['Crew Margin Less Externals per Direct Manhour'] >= 10 and row['Crew Margin Less Externals per Direct Manhour'] <=35:\n",
    "        val = 0 #'10 to 35'\n",
    "    else:\n",
    "        val = 0 #'Less than 10'\n",
    "    return val\n",
    "\n",
    "df['Crew Margin'] = df.apply(margin_range, axis=1)\n",
    "df.drop('Crew Margin Less Externals per Direct Manhour', 1, inplace=True)\n",
    ""
   ]
  },
  {
   "cell_type": "code",
   "execution_count": 19,
   "metadata": {},
   "outputs": [],
   "source": [
    "def handle_non_numerical_data(df):\n",
    "    columns = df.columns.values\n",
    "\n",
    "    for column in columns:\n",
    "        text_digit_vals = {}\n",
    "        def convert_to_int(val):\n",
    "            return text_digit_vals[val]\n",
    "        \n",
    "        if df[column].dtype != np.int64 and df[column].dtype != np.float64:\n",
    "            column_contents = df[column].values.tolist()\n",
    "            unique_elements = set(column_contents)\n",
    "            x = 0\n",
    "            for unique in unique_elements:\n",
    "                if unique not in text_digit_vals:\n",
    "                    text_digit_vals[unique] = x\n",
    "                    x += 1\n",
    "            \n",
    "            df[column] = list(map(convert_to_int, df[column]))\n",
    "    return df\n",
    "df = handle_non_numerical_data(df)\n",
    "#df.drop(['ticket'], 1, inplace=True)\n",
    "#df.drop(['ticket','home.dest'], 1, inplace=True)\n",
    ""
   ]
  },
  {
   "cell_type": "code",
   "execution_count": 20,
   "metadata": {},
   "outputs": [],
   "source": [
    "X = np.array(df.drop(['Crew Margin'], 1).astype(float))\n",
    "X = preprocessing.scale(X)\n",
    "y = np.array(df['Crew Margin'])\n",
    "\n",
    "clf = MeanShift()\n",
    "clf.fit(X)\n",
    "\n",
    "labels = clf.labels_\n",
    "\n",
    "original_df['cluster_group'] = np.nan\n",
    "\n",
    "for i in range(len(X)):\n",
    "    original_df['cluster_group'].iloc[i] = labels[i]"
   ]
  },
  {
   "cell_type": "code",
   "execution_count": 23,
   "metadata": {},
   "outputs": [
    {
     "output_type": "stream",
     "name": "stdout",
     "text": "5\n"
    }
   ],
   "source": [
    "original_df.head()\n",
    "\n",
    "n_clusters_ = len(np.unique(labels))\n",
    "print(n_clusters_)"
   ]
  },
  {
   "cell_type": "code",
   "execution_count": null,
   "metadata": {},
   "outputs": [],
   "source": []
  }
 ]
}